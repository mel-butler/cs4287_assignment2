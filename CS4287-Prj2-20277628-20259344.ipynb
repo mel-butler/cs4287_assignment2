{
 "cells": [
  {
   "cell_type": "markdown",
   "metadata": {},
   "source": [
    "# CS4287 Assignment 2\n",
    "## YR 4 SEM 1 2023\n",
    "Kim O'Regan: 20277628\n",
    "\n",
    "Imelda Butler: 20259344"
   ]
  },
  {
   "cell_type": "markdown",
   "metadata": {},
   "source": [
    "Can the code execute to the end without error? Y/N"
   ]
  },
  {
   "cell_type": "code",
   "execution_count": null,
   "metadata": {},
   "outputs": [],
   "source": [
    "from ultralytics import YOLO"
   ]
  },
  {
   "cell_type": "code",
   "execution_count": null,
   "metadata": {},
   "outputs": [],
   "source": [
    "# Load model\n",
    "model = YOLO(\"yolov8n.yaml\") # building a model!!\n",
    "\n",
    "# using the model\n",
    "results = model.train(data=\"data.yaml\", epochs = 1)"
   ]
  }
 ],
 "metadata": {
  "language_info": {
   "name": "python"
  }
 },
 "nbformat": 4,
 "nbformat_minor": 2
}
